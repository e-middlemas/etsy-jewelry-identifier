{
 "cells": [
  {
   "cell_type": "markdown",
   "metadata": {
    "colab_type": "text",
    "id": "1SKH1vJJVc98"
   },
   "source": [
    "# Transfer Learning to classify keep or throwaway necklace model with VGG"
   ]
  },
  {
   "cell_type": "code",
   "execution_count": 1,
   "metadata": {
    "colab": {
     "base_uri": "https://localhost:8080/",
     "height": 122
    },
    "colab_type": "code",
    "executionInfo": {
     "elapsed": 18926,
     "status": "ok",
     "timestamp": 1580183946583,
     "user": {
      "displayName": "Eleanor Middlemas",
      "photoUrl": "https://lh3.googleusercontent.com/a-/AAuE7mAows02wF9ykiaLoA1SmUTwJdRv13BknnaOIU0dyg=s64",
      "userId": "01049274185132836873"
     },
     "user_tz": 420
    },
    "id": "ziREXkGQVuY3",
    "outputId": "dcf15d8f-27b0-4c7e-df6e-685d4f2138be"
   },
   "outputs": [
    {
     "name": "stdout",
     "output_type": "stream",
     "text": [
      "Go to this URL in a browser: https://accounts.google.com/o/oauth2/auth?client_id=947318989803-6bn6qk8qdgf4n4g3pfee6491hc0brc4i.apps.googleusercontent.com&redirect_uri=urn%3aietf%3awg%3aoauth%3a2.0%3aoob&response_type=code&scope=email%20https%3a%2f%2fwww.googleapis.com%2fauth%2fdocs.test%20https%3a%2f%2fwww.googleapis.com%2fauth%2fdrive%20https%3a%2f%2fwww.googleapis.com%2fauth%2fdrive.photos.readonly%20https%3a%2f%2fwww.googleapis.com%2fauth%2fpeopleapi.readonly\n",
      "\n",
      "Enter your authorization code:\n",
      "··········\n",
      "Mounted at /content/drive\n"
     ]
    }
   ],
   "source": [
    "from google.colab import drive\n",
    "drive.mount('/content/drive')"
   ]
  },
  {
   "cell_type": "code",
   "execution_count": null,
   "metadata": {
    "colab": {},
    "colab_type": "code",
    "id": "PYrRaKZgVc-B"
   },
   "outputs": [],
   "source": [
    "import numpy as np\n",
    "import pandas as pd\n",
    "import matplotlib.pyplot as plt\n",
    "%matplotlib inline \n",
    "import cv2\n",
    "import os\n",
    "import time\n",
    "\n",
    "from tensorflow.keras.applications import VGG16\n",
    "from tensorflow.keras.preprocessing.image import ImageDataGenerator\n",
    "from tensorflow.keras.models import Sequential\n",
    "from tensorflow.keras.layers import Conv2D, MaxPooling2D, Activation, Dropout, Flatten, Dense\n",
    "from tensorflow.keras import backend as K\n",
    "from tensorflow.keras import metrics, optimizers\n",
    "%tensorflow_version 1.x"
   ]
  },
  {
   "cell_type": "markdown",
   "metadata": {
    "colab_type": "text",
    "id": "Kh8jDsFEVc-I"
   },
   "source": [
    "## Define paths & constants"
   ]
  },
  {
   "cell_type": "code",
   "execution_count": null,
   "metadata": {
    "colab": {},
    "colab_type": "code",
    "id": "8efhkJ-lXzlh"
   },
   "outputs": [],
   "source": [
    "data_base_path = \"/content/drive/My Drive/labeled/\"\n",
    "save_dir = os.path.abspath(\"/content/drive/My Drive/Colab Notebooks/\")"
   ]
  },
  {
   "cell_type": "code",
   "execution_count": 4,
   "metadata": {
    "colab": {
     "base_uri": "https://localhost:8080/",
     "height": 51
    },
    "colab_type": "code",
    "executionInfo": {
     "elapsed": 8156,
     "status": "ok",
     "timestamp": 1580184006406,
     "user": {
      "displayName": "Eleanor Middlemas",
      "photoUrl": "https://lh3.googleusercontent.com/a-/AAuE7mAows02wF9ykiaLoA1SmUTwJdRv13BknnaOIU0dyg=s64",
      "userId": "01049274185132836873"
     },
     "user_tz": 420
    },
    "id": "D7-LEgCkEeYI",
    "outputId": "65302b59-fbb3-46e9-9623-3ca742f4ed88"
   },
   "outputs": [
    {
     "name": "stdout",
     "output_type": "stream",
     "text": [
      "973\n",
      "975\n"
     ]
    }
   ],
   "source": [
    "print(len(os.listdir(data_base_path+\"throwaway/\")))\n",
    "print(len(os.listdir(data_base_path+\"keep/\")))"
   ]
  },
  {
   "cell_type": "code",
   "execution_count": null,
   "metadata": {
    "colab": {},
    "colab_type": "code",
    "id": "M0KYpfUlVc-G"
   },
   "outputs": [],
   "source": [
    "nb_classes = 2\n",
    "batch_size = 32\n",
    "nb_train_samples = batch_size*6\n",
    "nb_validation_samples = batch_size*1\n",
    "nb_epochs = 100\n",
    "\n",
    "#IMAGE_RESIZE = 150\n",
    "img_height = 150\n",
    "img_width = 150\n",
    "\n",
    "if K.image_data_format() == 'channels_first':\n",
    "    input_shape = (3, img_width, img_height)\n",
    "else:\n",
    "    input_shape = (img_width, img_height, 3)"
   ]
  },
  {
   "cell_type": "markdown",
   "metadata": {
    "colab_type": "text",
    "id": "_Iw6HWdGeXiG"
   },
   "source": [
    "## Build model"
   ]
  },
  {
   "cell_type": "code",
   "execution_count": 6,
   "metadata": {
    "colab": {
     "base_uri": "https://localhost:8080/",
     "height": 122
    },
    "colab_type": "code",
    "executionInfo": {
     "elapsed": 10009,
     "status": "ok",
     "timestamp": 1580184054197,
     "user": {
      "displayName": "Eleanor Middlemas",
      "photoUrl": "https://lh3.googleusercontent.com/a-/AAuE7mAows02wF9ykiaLoA1SmUTwJdRv13BknnaOIU0dyg=s64",
      "userId": "01049274185132836873"
     },
     "user_tz": 420
    },
    "id": "zdvpCdRnV_rS",
    "outputId": "3cd4d0c0-9e2d-4c52-9089-74236d90ec91"
   },
   "outputs": [
    {
     "name": "stdout",
     "output_type": "stream",
     "text": [
      "WARNING:tensorflow:From /usr/local/lib/python3.6/dist-packages/tensorflow_core/python/ops/resource_variable_ops.py:1630: calling BaseResourceVariable.__init__ (from tensorflow.python.ops.resource_variable_ops) with constraint is deprecated and will be removed in a future version.\n",
      "Instructions for updating:\n",
      "If using Keras pass *_constraint arguments to layers.\n",
      "Downloading data from https://github.com/fchollet/deep-learning-models/releases/download/v0.1/vgg16_weights_tf_dim_ordering_tf_kernels_notop.h5\n",
      "58892288/58889256 [==============================] - 1s 0us/step\n"
     ]
    }
   ],
   "source": [
    "# Extract base of VGG16 model:\n",
    "conv_base = VGG16(weights='imagenet',\n",
    "                  include_top=False,\n",
    "                  input_shape=input_shape)"
   ]
  },
  {
   "cell_type": "code",
   "execution_count": 41,
   "metadata": {
    "colab": {
     "base_uri": "https://localhost:8080/",
     "height": 51
    },
    "colab_type": "code",
    "executionInfo": {
     "elapsed": 333,
     "status": "ok",
     "timestamp": 1580185685507,
     "user": {
      "displayName": "Eleanor Middlemas",
      "photoUrl": "https://lh3.googleusercontent.com/a-/AAuE7mAows02wF9ykiaLoA1SmUTwJdRv13BknnaOIU0dyg=s64",
      "userId": "01049274185132836873"
     },
     "user_tz": 420
    },
    "id": "hK3mYviibW0h",
    "outputId": "e36b95bb-75ff-4cc5-fffa-b7d349a91ef3"
   },
   "outputs": [
    {
     "name": "stdout",
     "output_type": "stream",
     "text": [
      "This is the number of trainable weights before freezing the conv base: 32\n",
      "This is the number of trainable weights after freezing the conv base: 6\n"
     ]
    }
   ],
   "source": [
    "# Add 2 trainable layers on top:\n",
    "model = Sequential()\n",
    "model.add(conv_base)\n",
    "model.add(Flatten())\n",
    "model.add(Dense(512*4, activation='relu'))\n",
    "model.add(Dropout(0.5))\n",
    "model.add(Dense(512*4, activation='relu'))\n",
    "model.add(Dense(nb_classes, activation='softmax'))\n",
    "\n",
    "conv_base.trainable = True\n",
    "print('This is the number of trainable weights '\n",
    "      'before freezing the conv base:', len(model.trainable_weights))\n",
    "conv_base.trainable = False\n",
    "print('This is the number of trainable weights '\n",
    "      'after freezing the conv base:', len(model.trainable_weights))"
   ]
  },
  {
   "cell_type": "markdown",
   "metadata": {
    "colab_type": "text",
    "id": "9w0OpCX1eOTz"
   },
   "source": [
    "## Preprocess data  \n",
    "  \n",
    "Randomly generate training & validation data"
   ]
  },
  {
   "cell_type": "code",
   "execution_count": null,
   "metadata": {
    "colab": {},
    "colab_type": "code",
    "id": "nECYgdddVc-Q"
   },
   "outputs": [],
   "source": [
    "train_gen = ImageDataGenerator(\n",
    "    rescale=1./255, \n",
    "    horizontal_flip=True, \n",
    "#    vertical_flip=True,\n",
    "    rotation_range=40, \n",
    "    width_shift_range=.15,\n",
    "    height_shift_range=.15,\n",
    "#    zoom_range=0.5,\n",
    "    validation_split=0.2) # set validation split\n",
    "\n",
    "#test_datagen = ImageDataGenerator(rescale=1./255)"
   ]
  },
  {
   "cell_type": "code",
   "execution_count": 43,
   "metadata": {
    "colab": {
     "base_uri": "https://localhost:8080/",
     "height": 51
    },
    "colab_type": "code",
    "executionInfo": {
     "elapsed": 402,
     "status": "ok",
     "timestamp": 1580185689406,
     "user": {
      "displayName": "Eleanor Middlemas",
      "photoUrl": "https://lh3.googleusercontent.com/a-/AAuE7mAows02wF9ykiaLoA1SmUTwJdRv13BknnaOIU0dyg=s64",
      "userId": "01049274185132836873"
     },
     "user_tz": 420
    },
    "id": "wtSHBBa5Vc-W",
    "outputId": "bdecbc89-5527-4195-acd3-c37d44dc31e1"
   },
   "outputs": [
    {
     "name": "stdout",
     "output_type": "stream",
     "text": [
      "Found 1558 images belonging to 2 classes.\n",
      "Found 388 images belonging to 2 classes.\n"
     ]
    }
   ],
   "source": [
    "train_generator = train_gen.flow_from_directory(\n",
    "    data_base_path,\n",
    "    target_size=(img_height, img_width),\n",
    "    batch_size=batch_size,\n",
    "    class_mode='binary',\n",
    "    subset='training') # set as training data\n",
    "    # shuffles by default\n",
    "\n",
    "validation_generator = train_gen.flow_from_directory(\n",
    "    data_base_path, # same directory as training data\n",
    "    target_size=(img_height, img_width),\n",
    "    batch_size=batch_size,\n",
    "    class_mode='binary',\n",
    "    subset='validation') # set as validation data"
   ]
  },
  {
   "cell_type": "markdown",
   "metadata": {
    "colab_type": "text",
    "id": "-OUXDWowVc-a"
   },
   "source": [
    "### Inspect a batch"
   ]
  },
  {
   "cell_type": "code",
   "execution_count": null,
   "metadata": {
    "colab": {},
    "colab_type": "code",
    "id": "5Lh-GRNaVc-a"
   },
   "outputs": [],
   "source": [
    "sample_training_images, _ = next(train_generator)"
   ]
  },
  {
   "cell_type": "code",
   "execution_count": null,
   "metadata": {
    "colab": {},
    "colab_type": "code",
    "id": "4i0_q0nGVc-e"
   },
   "outputs": [],
   "source": [
    "# This function will plot images in the form of a grid with 1 row and 5 columns where images are placed in each column.\n",
    "def plotImages(images_arr):\n",
    "    fig, axes = plt.subplots(1, 5, figsize=(20,20))\n",
    "    axes = axes.flatten()\n",
    "    for img, ax in zip( images_arr, axes):\n",
    "        ax.imshow(img)\n",
    "        ax.axis('off')\n",
    "    plt.tight_layout()\n",
    "    plt.show()"
   ]
  },
  {
   "cell_type": "code",
   "execution_count": null,
   "metadata": {
    "colab": {},
    "colab_type": "code",
    "id": "GeU23H9HVc-g"
   },
   "outputs": [],
   "source": [
    "plotImages(sample_training_images[:5])"
   ]
  },
  {
   "cell_type": "markdown",
   "metadata": {
    "colab_type": "text",
    "id": "ngxp9CM0Vc-v"
   },
   "source": [
    "## Compile transfer learning model"
   ]
  },
  {
   "cell_type": "code",
   "execution_count": 44,
   "metadata": {
    "colab": {
     "base_uri": "https://localhost:8080/",
     "height": 357
    },
    "colab_type": "code",
    "executionInfo": {
     "elapsed": 196,
     "status": "ok",
     "timestamp": 1580185692099,
     "user": {
      "displayName": "Eleanor Middlemas",
      "photoUrl": "https://lh3.googleusercontent.com/a-/AAuE7mAows02wF9ykiaLoA1SmUTwJdRv13BknnaOIU0dyg=s64",
      "userId": "01049274185132836873"
     },
     "user_tz": 420
    },
    "id": "i62SfFlEVc-s",
    "outputId": "c046ff91-1a0c-4a20-f5ed-5187732d3044"
   },
   "outputs": [
    {
     "name": "stdout",
     "output_type": "stream",
     "text": [
      "Model: \"sequential_3\"\n",
      "_________________________________________________________________\n",
      "Layer (type)                 Output Shape              Param #   \n",
      "=================================================================\n",
      "vgg16 (Model)                (None, 4, 4, 512)         14714688  \n",
      "_________________________________________________________________\n",
      "flatten_3 (Flatten)          (None, 8192)              0         \n",
      "_________________________________________________________________\n",
      "dense_9 (Dense)              (None, 2048)              16779264  \n",
      "_________________________________________________________________\n",
      "dropout_2 (Dropout)          (None, 2048)              0         \n",
      "_________________________________________________________________\n",
      "dense_10 (Dense)             (None, 2048)              4196352   \n",
      "_________________________________________________________________\n",
      "dense_11 (Dense)             (None, 2)                 4098      \n",
      "=================================================================\n",
      "Total params: 35,694,402\n",
      "Trainable params: 20,979,714\n",
      "Non-trainable params: 14,714,688\n",
      "_________________________________________________________________\n"
     ]
    }
   ],
   "source": [
    "model.summary()"
   ]
  },
  {
   "cell_type": "code",
   "execution_count": null,
   "metadata": {
    "colab": {},
    "colab_type": "code",
    "id": "Yw7mnr7kVc-w"
   },
   "outputs": [],
   "source": [
    "#LR1 = 0.001 # default with adam\n",
    "LR2 = 0.01\n",
    "#adam = optimizers.Adam(learning_rate=LR2, beta_1=0.9, beta_2=0.999, amsgrad=False)\n",
    "sgd = optimizers.SGD(learning_rate=LR1, momentum=0.0, nesterov=False)\n",
    "model.compile(optimizer = sgd, \n",
    "              loss = 'sparse_categorical_crossentropy',  # for labeled data\n",
    "              metrics = ['accuracy'])"
   ]
  },
  {
   "cell_type": "markdown",
   "metadata": {
    "colab_type": "text",
    "id": "e-Auu1H7Vc-z"
   },
   "source": [
    "## Train our model"
   ]
  },
  {
   "cell_type": "code",
   "execution_count": 69,
   "metadata": {
    "colab": {
     "base_uri": "https://localhost:8080/",
     "height": 1000
    },
    "colab_type": "code",
    "executionInfo": {
     "elapsed": 279835,
     "status": "ok",
     "timestamp": 1580190262474,
     "user": {
      "displayName": "Eleanor Middlemas",
      "photoUrl": "https://lh3.googleusercontent.com/a-/AAuE7mAows02wF9ykiaLoA1SmUTwJdRv13BknnaOIU0dyg=s64",
      "userId": "01049274185132836873"
     },
     "user_tz": 420
    },
    "id": "1K8g1iquVc-z",
    "outputId": "93156ee8-1724-4337-a474-8b2edc80adf4"
   },
   "outputs": [
    {
     "name": "stdout",
     "output_type": "stream",
     "text": [
      "Epoch 1/100\n",
      "5/6 [========================>.....] - ETA: 0s - loss: 0.6854 - acc: 0.5133Epoch 1/100\n",
      "6/6 [==============================] - 3s 559ms/step - loss: 0.6863 - acc: 0.5275 - val_loss: 0.6931 - val_acc: 0.5312\n",
      "Epoch 2/100\n",
      "5/6 [========================>.....] - ETA: 0s - loss: 0.6845 - acc: 0.5437Epoch 1/100\n",
      "6/6 [==============================] - 2s 408ms/step - loss: 0.6862 - acc: 0.5208 - val_loss: 0.6931 - val_acc: 0.5312\n",
      "Epoch 3/100\n",
      "5/6 [========================>.....] - ETA: 0s - loss: 0.6884 - acc: 0.5000Epoch 1/100\n",
      "6/6 [==============================] - 3s 451ms/step - loss: 0.6889 - acc: 0.5156 - val_loss: 0.6931 - val_acc: 0.5312\n",
      "Epoch 4/100\n",
      "5/6 [========================>.....] - ETA: 0s - loss: 0.6859 - acc: 0.4563Epoch 1/100\n",
      "6/6 [==============================] - 3s 463ms/step - loss: 0.6872 - acc: 0.4635 - val_loss: 0.6931 - val_acc: 0.5312\n",
      "Epoch 5/100\n",
      "5/6 [========================>.....] - ETA: 0s - loss: 0.6915 - acc: 0.5000Epoch 1/100\n",
      "6/6 [==============================] - 3s 461ms/step - loss: 0.6921 - acc: 0.4740 - val_loss: 0.6931 - val_acc: 0.5312\n",
      "Epoch 6/100\n",
      "5/6 [========================>.....] - ETA: 0s - loss: 0.6846 - acc: 0.5500Epoch 1/100\n",
      "6/6 [==============================] - 3s 456ms/step - loss: 0.6861 - acc: 0.5417 - val_loss: 0.6931 - val_acc: 0.5312\n",
      "Epoch 7/100\n",
      "5/6 [========================>.....] - ETA: 0s - loss: 0.6784 - acc: 0.5813Epoch 1/100\n",
      "6/6 [==============================] - 3s 443ms/step - loss: 0.6813 - acc: 0.5365 - val_loss: 0.6931 - val_acc: 0.5312\n",
      "Epoch 8/100\n",
      "5/6 [========================>.....] - ETA: 0s - loss: 0.6901 - acc: 0.4688Epoch 1/100\n",
      "6/6 [==============================] - 3s 450ms/step - loss: 0.6913 - acc: 0.4531 - val_loss: 0.6931 - val_acc: 0.5312\n",
      "Epoch 9/100\n",
      "5/6 [========================>.....] - ETA: 0s - loss: 0.6920 - acc: 0.5562Epoch 1/100\n",
      "6/6 [==============================] - 3s 474ms/step - loss: 0.6883 - acc: 0.5677 - val_loss: 0.6931 - val_acc: 0.5312\n",
      "Epoch 10/100\n",
      "5/6 [========================>.....] - ETA: 0s - loss: 0.6924 - acc: 0.5000Epoch 1/100\n",
      "6/6 [==============================] - 3s 482ms/step - loss: 0.6916 - acc: 0.5156 - val_loss: 0.6931 - val_acc: 0.5312\n",
      "Epoch 11/100\n",
      "5/6 [========================>.....] - ETA: 0s - loss: 0.6903 - acc: 0.4375Epoch 1/100\n",
      "6/6 [==============================] - 3s 460ms/step - loss: 0.6910 - acc: 0.4531 - val_loss: 0.6931 - val_acc: 0.5312\n",
      "Epoch 12/100\n",
      "5/6 [========================>.....] - ETA: 0s - loss: 0.6925 - acc: 0.5133Epoch 1/100\n",
      "6/6 [==============================] - 3s 443ms/step - loss: 0.6932 - acc: 0.4890 - val_loss: 0.6931 - val_acc: 0.5312\n",
      "Epoch 13/100\n",
      "5/6 [========================>.....] - ETA: 0s - loss: 0.6887 - acc: 0.4688Epoch 1/100\n",
      "6/6 [==============================] - 3s 445ms/step - loss: 0.6903 - acc: 0.4531 - val_loss: 0.6931 - val_acc: 0.5312\n",
      "Epoch 14/100\n",
      "5/6 [========================>.....] - ETA: 0s - loss: 0.6895 - acc: 0.5188Epoch 1/100\n",
      "6/6 [==============================] - 3s 457ms/step - loss: 0.6902 - acc: 0.5104 - val_loss: 0.6931 - val_acc: 0.5312\n",
      "Epoch 15/100\n",
      "5/6 [========================>.....] - ETA: 0s - loss: 0.6806 - acc: 0.4625Epoch 1/100\n",
      "6/6 [==============================] - 3s 500ms/step - loss: 0.6829 - acc: 0.4688 - val_loss: 0.6931 - val_acc: 0.5312\n",
      "Epoch 16/100\n",
      "5/6 [========================>.....] - ETA: 0s - loss: 0.6932 - acc: 0.5188Epoch 1/100\n",
      "6/6 [==============================] - 3s 458ms/step - loss: 0.6929 - acc: 0.5625 - val_loss: 0.6931 - val_acc: 0.5312\n",
      "Epoch 17/100\n",
      "5/6 [========================>.....] - ETA: 0s - loss: 0.6799 - acc: 0.5375Epoch 1/100\n",
      "6/6 [==============================] - 3s 470ms/step - loss: 0.6825 - acc: 0.5000 - val_loss: 0.6931 - val_acc: 0.5312\n",
      "Epoch 18/100\n",
      "5/6 [========================>.....] - ETA: 0s - loss: 0.6853 - acc: 0.5000Epoch 1/100\n",
      "6/6 [==============================] - 3s 475ms/step - loss: 0.6867 - acc: 0.5104 - val_loss: 0.6931 - val_acc: 0.5312\n",
      "Epoch 19/100\n",
      "5/6 [========================>.....] - ETA: 0s - loss: 0.6843 - acc: 0.5875Epoch 1/100\n",
      "6/6 [==============================] - 3s 451ms/step - loss: 0.6856 - acc: 0.5938 - val_loss: 0.6931 - val_acc: 0.5312\n",
      "Epoch 20/100\n",
      "5/6 [========================>.....] - ETA: 0s - loss: 0.6899 - acc: 0.4625Epoch 1/100\n",
      "6/6 [==============================] - 3s 448ms/step - loss: 0.6907 - acc: 0.4531 - val_loss: 0.6931 - val_acc: 0.5312\n",
      "Epoch 21/100\n",
      "5/6 [========================>.....] - ETA: 0s - loss: 0.6868 - acc: 0.4688Epoch 1/100\n",
      "6/6 [==============================] - 3s 458ms/step - loss: 0.6880 - acc: 0.4896 - val_loss: 0.6931 - val_acc: 0.5312\n",
      "Epoch 22/100\n",
      "5/6 [========================>.....] - ETA: 0s - loss: 0.6926 - acc: 0.4938Epoch 1/100\n",
      "6/6 [==============================] - 3s 454ms/step - loss: 0.6930 - acc: 0.5052 - val_loss: 0.6931 - val_acc: 0.5312\n",
      "Epoch 23/100\n",
      "5/6 [========================>.....] - ETA: 0s - loss: 0.6935 - acc: 0.5067Epoch 1/100\n",
      "6/6 [==============================] - 3s 464ms/step - loss: 0.6933 - acc: 0.5165 - val_loss: 0.6931 - val_acc: 0.5312\n",
      "Epoch 24/100\n",
      "5/6 [========================>.....] - ETA: 0s - loss: 0.6900 - acc: 0.4437Epoch 1/100\n",
      "6/6 [==============================] - 3s 464ms/step - loss: 0.6905 - acc: 0.4635 - val_loss: 0.6931 - val_acc: 0.5312\n",
      "Epoch 25/100\n",
      "5/6 [========================>.....] - ETA: 0s - loss: 0.6932 - acc: 0.5000Epoch 1/100\n",
      "6/6 [==============================] - 3s 464ms/step - loss: 0.6932 - acc: 0.5104 - val_loss: 0.6931 - val_acc: 0.5312\n",
      "Epoch 26/100\n",
      "5/6 [========================>.....] - ETA: 0s - loss: 0.6846 - acc: 0.5250Epoch 1/100\n",
      "6/6 [==============================] - 3s 452ms/step - loss: 0.6820 - acc: 0.5365 - val_loss: 0.6931 - val_acc: 0.5312\n",
      "Epoch 27/100\n",
      "5/6 [========================>.....] - ETA: 0s - loss: 0.6935 - acc: 0.4938Epoch 1/100\n",
      "6/6 [==============================] - 3s 462ms/step - loss: 0.6935 - acc: 0.5052 - val_loss: 0.6931 - val_acc: 0.5312\n",
      "Epoch 28/100\n",
      "5/6 [========================>.....] - ETA: 0s - loss: 0.6931 - acc: 0.5400Epoch 1/100\n",
      "6/6 [==============================] - 3s 426ms/step - loss: 0.6931 - acc: 0.5385 - val_loss: 0.6931 - val_acc: 0.5312\n",
      "Epoch 29/100\n",
      "5/6 [========================>.....] - ETA: 0s - loss: 0.6847 - acc: 0.5125Epoch 1/100\n",
      "6/6 [==============================] - 3s 449ms/step - loss: 0.6862 - acc: 0.5208 - val_loss: 0.6931 - val_acc: 0.5312\n",
      "Epoch 30/100\n",
      "5/6 [========================>.....] - ETA: 0s - loss: 0.6895 - acc: 0.4062Epoch 1/100\n",
      "6/6 [==============================] - 3s 464ms/step - loss: 0.6899 - acc: 0.4219 - val_loss: 0.6931 - val_acc: 0.5312\n",
      "Epoch 31/100\n",
      "5/6 [========================>.....] - ETA: 0s - loss: 0.6900 - acc: 0.4500Epoch 1/100\n",
      "6/6 [==============================] - 3s 458ms/step - loss: 0.6904 - acc: 0.4583 - val_loss: 0.6931 - val_acc: 0.5312\n",
      "Epoch 32/100\n",
      "5/6 [========================>.....] - ETA: 0s - loss: 0.6841 - acc: 0.5312Epoch 1/100\n",
      "6/6 [==============================] - 3s 489ms/step - loss: 0.6819 - acc: 0.5260 - val_loss: 0.6931 - val_acc: 0.5312\n",
      "Epoch 33/100\n",
      "5/6 [========================>.....] - ETA: 0s - loss: 0.6752 - acc: 0.5688Epoch 1/100\n",
      "6/6 [==============================] - 3s 463ms/step - loss: 0.6778 - acc: 0.5677 - val_loss: 0.6931 - val_acc: 0.5312\n",
      "Epoch 34/100\n",
      "5/6 [========================>.....] - ETA: 0s - loss: 0.6927 - acc: 0.5562Epoch 1/100\n",
      "6/6 [==============================] - 3s 461ms/step - loss: 0.6930 - acc: 0.5260 - val_loss: 0.6931 - val_acc: 0.5312\n",
      "Epoch 35/100\n",
      "5/6 [========================>.....] - ETA: 0s - loss: 0.6891 - acc: 0.5000Epoch 1/100\n",
      "6/6 [==============================] - 3s 474ms/step - loss: 0.6900 - acc: 0.4948 - val_loss: 0.6931 - val_acc: 0.5312\n",
      "Epoch 36/100\n",
      "5/6 [========================>.....] - ETA: 0s - loss: 0.6895 - acc: 0.5250Epoch 1/100\n",
      "6/6 [==============================] - 3s 506ms/step - loss: 0.6902 - acc: 0.5156 - val_loss: 0.6931 - val_acc: 0.5312\n",
      "Epoch 37/100\n",
      "5/6 [========================>.....] - ETA: 0s - loss: 0.6890 - acc: 0.4600Epoch 1/100\n",
      "6/6 [==============================] - 3s 471ms/step - loss: 0.6901 - acc: 0.4505 - val_loss: 0.6931 - val_acc: 0.5312\n",
      "Epoch 38/100\n",
      "5/6 [========================>.....] - ETA: 0s - loss: 0.6899 - acc: 0.4938Epoch 1/100\n",
      "6/6 [==============================] - 3s 455ms/step - loss: 0.6902 - acc: 0.5104 - val_loss: 0.6931 - val_acc: 0.5312\n",
      "Epoch 39/100\n",
      "5/6 [========================>.....] - ETA: 0s - loss: 0.6842 - acc: 0.5562Epoch 1/100\n",
      "6/6 [==============================] - 3s 473ms/step - loss: 0.6856 - acc: 0.5469 - val_loss: 0.6931 - val_acc: 0.5312\n",
      "Epoch 40/100\n",
      "5/6 [========================>.....] - ETA: 0s - loss: 0.6919 - acc: 0.5188Epoch 1/100\n",
      "6/6 [==============================] - 3s 453ms/step - loss: 0.6923 - acc: 0.5000 - val_loss: 0.6931 - val_acc: 0.5312\n",
      "Epoch 41/100\n",
      "5/6 [========================>.....] - ETA: 0s - loss: 0.6815 - acc: 0.4437Epoch 1/100\n",
      "6/6 [==============================] - 3s 462ms/step - loss: 0.6798 - acc: 0.4531 - val_loss: 0.6931 - val_acc: 0.5312\n",
      "Epoch 42/100\n",
      "5/6 [========================>.....] - ETA: 0s - loss: 0.6935 - acc: 0.4500Epoch 1/100\n",
      "6/6 [==============================] - 3s 455ms/step - loss: 0.6896 - acc: 0.4844 - val_loss: 0.6931 - val_acc: 0.5312\n",
      "Epoch 43/100\n",
      "5/6 [========================>.....] - ETA: 0s - loss: 0.6887 - acc: 0.5063Epoch 1/100\n",
      "6/6 [==============================] - 3s 452ms/step - loss: 0.6860 - acc: 0.4792 - val_loss: 0.6931 - val_acc: 0.4688\n",
      "Epoch 44/100\n",
      "5/6 [========================>.....] - ETA: 0s - loss: 0.6893 - acc: 0.4563Epoch 1/100\n",
      "6/6 [==============================] - 3s 463ms/step - loss: 0.6898 - acc: 0.4635 - val_loss: 0.6932 - val_acc: 0.4688\n",
      "Epoch 45/100\n",
      "5/6 [========================>.....] - ETA: 0s - loss: 0.6926 - acc: 0.5625Epoch 1/100\n",
      "6/6 [==============================] - 3s 465ms/step - loss: 0.6926 - acc: 0.5521 - val_loss: 0.6931 - val_acc: 0.4688\n",
      "Epoch 46/100\n",
      "5/6 [========================>.....] - ETA: 0s - loss: 0.6892 - acc: 0.4667Epoch 1/100\n",
      "6/6 [==============================] - 3s 451ms/step - loss: 0.6826 - acc: 0.5000 - val_loss: 0.6931 - val_acc: 0.5312\n",
      "Epoch 47/100\n",
      "5/6 [========================>.....] - ETA: 0s - loss: 0.6925 - acc: 0.5250Epoch 1/100\n",
      "6/6 [==============================] - 3s 454ms/step - loss: 0.6891 - acc: 0.5208 - val_loss: 0.6931 - val_acc: 0.5312\n",
      "Epoch 48/100\n",
      "5/6 [========================>.....] - ETA: 0s - loss: 0.6935 - acc: 0.4187Epoch 1/100\n",
      "6/6 [==============================] - 3s 475ms/step - loss: 0.6932 - acc: 0.4479 - val_loss: 0.6931 - val_acc: 0.5312\n",
      "Epoch 49/100\n",
      "5/6 [========================>.....] - ETA: 0s - loss: 0.6880 - acc: 0.5250Epoch 1/100\n",
      "6/6 [==============================] - 3s 475ms/step - loss: 0.6892 - acc: 0.5156 - val_loss: 0.6931 - val_acc: 0.5312\n",
      "Epoch 50/100\n",
      "5/6 [========================>.....] - ETA: 0s - loss: 0.6937 - acc: 0.5125Epoch 1/100\n",
      "6/6 [==============================] - 3s 452ms/step - loss: 0.6935 - acc: 0.5208 - val_loss: 0.6931 - val_acc: 0.5312\n",
      "Epoch 51/100\n",
      "5/6 [========================>.....] - ETA: 0s - loss: 0.6927 - acc: 0.5400Epoch 1/100\n",
      "6/6 [==============================] - 3s 446ms/step - loss: 0.6927 - acc: 0.5330 - val_loss: 0.6931 - val_acc: 0.5312\n",
      "Epoch 52/100\n",
      "5/6 [========================>.....] - ETA: 0s - loss: 0.6935 - acc: 0.4000Epoch 1/100\n",
      "6/6 [==============================] - 3s 454ms/step - loss: 0.6933 - acc: 0.4479 - val_loss: 0.6932 - val_acc: 0.4688\n",
      "Epoch 53/100\n",
      "5/6 [========================>.....] - ETA: 0s - loss: 0.6801 - acc: 0.5312Epoch 1/100\n",
      "6/6 [==============================] - 3s 480ms/step - loss: 0.6805 - acc: 0.5208 - val_loss: 0.6932 - val_acc: 0.4688\n",
      "Epoch 54/100\n",
      "5/6 [========================>.....] - ETA: 0s - loss: 0.6804 - acc: 0.5063Epoch 1/100\n",
      "6/6 [==============================] - 3s 464ms/step - loss: 0.6824 - acc: 0.5365 - val_loss: 0.6932 - val_acc: 0.4688\n",
      "Epoch 55/100\n",
      "5/6 [========================>.....] - ETA: 0s - loss: 0.6930 - acc: 0.4750Epoch 1/100\n",
      "6/6 [==============================] - 3s 465ms/step - loss: 0.6935 - acc: 0.4427 - val_loss: 0.6932 - val_acc: 0.4688\n",
      "Epoch 56/100\n",
      "5/6 [========================>.....] - ETA: 0s - loss: 0.6933 - acc: 0.4812Epoch 1/100\n",
      "6/6 [==============================] - 3s 454ms/step - loss: 0.6896 - acc: 0.4844 - val_loss: 0.6932 - val_acc: 0.4688\n",
      "Epoch 57/100\n",
      "5/6 [========================>.....] - ETA: 0s - loss: 0.6849 - acc: 0.4375Epoch 1/100\n",
      "6/6 [==============================] - 3s 463ms/step - loss: 0.6863 - acc: 0.4375 - val_loss: 0.6931 - val_acc: 0.4688\n",
      "Epoch 58/100\n",
      "5/6 [========================>.....] - ETA: 0s - loss: 0.6840 - acc: 0.5000Epoch 1/100\n",
      "6/6 [==============================] - 3s 505ms/step - loss: 0.6854 - acc: 0.4948 - val_loss: 0.6931 - val_acc: 0.5312\n",
      "Epoch 59/100\n",
      "5/6 [========================>.....] - ETA: 0s - loss: 0.6881 - acc: 0.5188Epoch 1/100\n",
      "6/6 [==============================] - 3s 472ms/step - loss: 0.6886 - acc: 0.5208 - val_loss: 0.6931 - val_acc: 0.5312\n",
      "Epoch 60/100\n",
      "5/6 [========================>.....] - ETA: 0s - loss: 0.6891 - acc: 0.5200Epoch 1/100\n",
      "6/6 [==============================] - 3s 445ms/step - loss: 0.6895 - acc: 0.5055 - val_loss: 0.6931 - val_acc: 0.5312\n",
      "Epoch 61/100\n",
      "5/6 [========================>.....] - ETA: 0s - loss: 0.6903 - acc: 0.4812Epoch 1/100\n",
      "6/6 [==============================] - 3s 464ms/step - loss: 0.6909 - acc: 0.4740 - val_loss: 0.6932 - val_acc: 0.4688\n",
      "Epoch 62/100\n",
      "5/6 [========================>.....] - ETA: 0s - loss: 0.6891 - acc: 0.5125Epoch 1/100\n",
      "6/6 [==============================] - 3s 493ms/step - loss: 0.6897 - acc: 0.5104 - val_loss: 0.6932 - val_acc: 0.4688\n",
      "Epoch 63/100\n",
      "5/6 [========================>.....] - ETA: 0s - loss: 0.6927 - acc: 0.5000Epoch 1/100\n",
      "6/6 [==============================] - 3s 456ms/step - loss: 0.6928 - acc: 0.5104 - val_loss: 0.6931 - val_acc: 0.5312\n",
      "Epoch 64/100\n",
      "5/6 [========================>.....] - ETA: 0s - loss: 0.6888 - acc: 0.5188Epoch 1/100\n",
      "6/6 [==============================] - 3s 453ms/step - loss: 0.6857 - acc: 0.5260 - val_loss: 0.6931 - val_acc: 0.5312\n",
      "Epoch 65/100\n",
      "5/6 [========================>.....] - ETA: 0s - loss: 0.6944 - acc: 0.4125Epoch 1/100\n",
      "6/6 [==============================] - 3s 460ms/step - loss: 0.6940 - acc: 0.4427 - val_loss: 0.6932 - val_acc: 0.4688\n",
      "Epoch 66/100\n",
      "5/6 [========================>.....] - ETA: 0s - loss: 0.6893 - acc: 0.4333Epoch 1/100\n",
      "6/6 [==============================] - 3s 443ms/step - loss: 0.6900 - acc: 0.4505 - val_loss: 0.6932 - val_acc: 0.4688\n",
      "Epoch 67/100\n",
      "5/6 [========================>.....] - ETA: 0s - loss: 0.6894 - acc: 0.5000Epoch 1/100\n",
      "6/6 [==============================] - 3s 449ms/step - loss: 0.6902 - acc: 0.4948 - val_loss: 0.6932 - val_acc: 0.4688\n",
      "Epoch 68/100\n",
      "5/6 [========================>.....] - ETA: 0s - loss: 0.6806 - acc: 0.4875Epoch 1/100\n",
      "6/6 [==============================] - 3s 463ms/step - loss: 0.6827 - acc: 0.4844 - val_loss: 0.6932 - val_acc: 0.4688\n",
      "Epoch 69/100\n",
      "5/6 [========================>.....] - ETA: 0s - loss: 0.6932 - acc: 0.5125Epoch 1/100\n",
      "6/6 [==============================] - 3s 456ms/step - loss: 0.6934 - acc: 0.4896 - val_loss: 0.6932 - val_acc: 0.4688\n",
      "Epoch 70/100\n",
      "5/6 [========================>.....] - ETA: 0s - loss: 0.6840 - acc: 0.5312Epoch 1/100\n",
      "6/6 [==============================] - 3s 452ms/step - loss: 0.6858 - acc: 0.5052 - val_loss: 0.6932 - val_acc: 0.4688\n",
      "Epoch 71/100\n",
      "5/6 [========================>.....] - ETA: 0s - loss: 0.6841 - acc: 0.5250Epoch 1/100\n",
      "6/6 [==============================] - 3s 472ms/step - loss: 0.6856 - acc: 0.5104 - val_loss: 0.6932 - val_acc: 0.4688\n",
      "Epoch 72/100\n",
      "5/6 [========================>.....] - ETA: 0s - loss: 0.6805 - acc: 0.4938Epoch 1/100\n",
      "6/6 [==============================] - 3s 469ms/step - loss: 0.6828 - acc: 0.4844 - val_loss: 0.6932 - val_acc: 0.4688\n",
      "Epoch 73/100\n",
      "5/6 [========================>.....] - ETA: 0s - loss: 0.6929 - acc: 0.4938Epoch 1/100\n",
      "6/6 [==============================] - 3s 489ms/step - loss: 0.6928 - acc: 0.4948 - val_loss: 0.6931 - val_acc: 0.5312\n",
      "Epoch 74/100\n",
      "5/6 [========================>.....] - ETA: 0s - loss: 0.6900 - acc: 0.5125Epoch 1/100\n",
      "6/6 [==============================] - 3s 462ms/step - loss: 0.6903 - acc: 0.5156 - val_loss: 0.6931 - val_acc: 0.4688\n",
      "Epoch 75/100\n",
      "5/6 [========================>.....] - ETA: 0s - loss: 0.6896 - acc: 0.4750Epoch 1/100\n",
      "6/6 [==============================] - 3s 467ms/step - loss: 0.6903 - acc: 0.4725 - val_loss: 0.6932 - val_acc: 0.4688\n",
      "Epoch 76/100\n",
      "5/6 [========================>.....] - ETA: 0s - loss: 0.6890 - acc: 0.5000Epoch 1/100\n",
      "6/6 [==============================] - 3s 469ms/step - loss: 0.6893 - acc: 0.5469 - val_loss: 0.6932 - val_acc: 0.4688\n",
      "Epoch 77/100\n",
      "5/6 [========================>.....] - ETA: 0s - loss: 0.6927 - acc: 0.5312Epoch 1/100\n",
      "6/6 [==============================] - 3s 465ms/step - loss: 0.6931 - acc: 0.5208 - val_loss: 0.6931 - val_acc: 0.4688\n",
      "Epoch 78/100\n",
      "5/6 [========================>.....] - ETA: 0s - loss: 0.6883 - acc: 0.5063Epoch 1/100\n",
      "6/6 [==============================] - 3s 468ms/step - loss: 0.6890 - acc: 0.5052 - val_loss: 0.6931 - val_acc: 0.5312\n",
      "Epoch 79/100\n",
      "5/6 [========================>.....] - ETA: 0s - loss: 0.6850 - acc: 0.4625Epoch 1/100\n",
      "6/6 [==============================] - 3s 483ms/step - loss: 0.6864 - acc: 0.4792 - val_loss: 0.6932 - val_acc: 0.4688\n",
      "Epoch 80/100\n",
      "5/6 [========================>.....] - ETA: 0s - loss: 0.6929 - acc: 0.4938Epoch 1/100\n",
      "6/6 [==============================] - 3s 492ms/step - loss: 0.6928 - acc: 0.5260 - val_loss: 0.6932 - val_acc: 0.4688\n",
      "Epoch 81/100\n",
      "5/6 [========================>.....] - ETA: 0s - loss: 0.6876 - acc: 0.5875Epoch 1/100\n",
      "6/6 [==============================] - 3s 458ms/step - loss: 0.6886 - acc: 0.5625 - val_loss: 0.6931 - val_acc: 0.5312\n",
      "Epoch 82/100\n",
      "5/6 [========================>.....] - ETA: 0s - loss: 0.6807 - acc: 0.4938Epoch 1/100\n",
      "6/6 [==============================] - 3s 485ms/step - loss: 0.6826 - acc: 0.5000 - val_loss: 0.6932 - val_acc: 0.4688\n",
      "Epoch 83/100\n",
      "5/6 [========================>.....] - ETA: 0s - loss: 0.6833 - acc: 0.6062Epoch 1/100\n",
      "6/6 [==============================] - 3s 457ms/step - loss: 0.6848 - acc: 0.5938 - val_loss: 0.6932 - val_acc: 0.4688\n",
      "Epoch 84/100\n",
      "5/6 [========================>.....] - ETA: 0s - loss: 0.6882 - acc: 0.5562Epoch 1/100\n",
      "6/6 [==============================] - 3s 468ms/step - loss: 0.6889 - acc: 0.5417 - val_loss: 0.6931 - val_acc: 0.4688\n",
      "Epoch 85/100\n",
      "5/6 [========================>.....] - ETA: 0s - loss: 0.6875 - acc: 0.5688Epoch 1/100\n",
      "6/6 [==============================] - 3s 453ms/step - loss: 0.6884 - acc: 0.5573 - val_loss: 0.6931 - val_acc: 0.5312\n",
      "Epoch 86/100\n",
      "5/6 [========================>.....] - ETA: 0s - loss: 0.6953 - acc: 0.4267Epoch 1/100\n",
      "6/6 [==============================] - 3s 435ms/step - loss: 0.6916 - acc: 0.4341 - val_loss: 0.6932 - val_acc: 0.4688\n",
      "Epoch 87/100\n",
      "5/6 [========================>.....] - ETA: 0s - loss: 0.6890 - acc: 0.5188Epoch 1/100\n",
      "6/6 [==============================] - 3s 461ms/step - loss: 0.6897 - acc: 0.5156 - val_loss: 0.6932 - val_acc: 0.4688\n",
      "Epoch 88/100\n",
      "5/6 [========================>.....] - ETA: 0s - loss: 0.6935 - acc: 0.4750Epoch 1/100\n",
      "6/6 [==============================] - 3s 471ms/step - loss: 0.6936 - acc: 0.4688 - val_loss: 0.6932 - val_acc: 0.4688\n",
      "Epoch 89/100\n",
      "5/6 [========================>.....] - ETA: 0s - loss: 0.6884 - acc: 0.5500Epoch 1/100\n",
      "6/6 [==============================] - 3s 478ms/step - loss: 0.6891 - acc: 0.5260 - val_loss: 0.6932 - val_acc: 0.4688\n",
      "Epoch 90/100\n",
      "5/6 [========================>.....] - ETA: 0s - loss: 0.6757 - acc: 0.5375Epoch 1/100\n",
      "6/6 [==============================] - 3s 471ms/step - loss: 0.6787 - acc: 0.5156 - val_loss: 0.6932 - val_acc: 0.4688\n",
      "Epoch 91/100\n",
      "5/6 [========================>.....] - ETA: 0s - loss: 0.6880 - acc: 0.5188Epoch 1/100\n",
      "6/6 [==============================] - 3s 465ms/step - loss: 0.6826 - acc: 0.5260 - val_loss: 0.6931 - val_acc: 0.5312\n",
      "Epoch 92/100\n",
      "5/6 [========================>.....] - ETA: 0s - loss: 0.6801 - acc: 0.4688Epoch 1/100\n",
      "6/6 [==============================] - 3s 463ms/step - loss: 0.6824 - acc: 0.4948 - val_loss: 0.6932 - val_acc: 0.4688\n",
      "Epoch 93/100\n",
      "5/6 [========================>.....] - ETA: 0s - loss: 0.6888 - acc: 0.4938Epoch 1/100\n",
      "6/6 [==============================] - 3s 463ms/step - loss: 0.6892 - acc: 0.5052 - val_loss: 0.6932 - val_acc: 0.4688\n",
      "Epoch 94/100\n",
      "5/6 [========================>.....] - ETA: 0s - loss: 0.6890 - acc: 0.5125Epoch 1/100\n",
      "6/6 [==============================] - 3s 456ms/step - loss: 0.6901 - acc: 0.4948 - val_loss: 0.6932 - val_acc: 0.4688\n",
      "Epoch 95/100\n",
      "5/6 [========================>.....] - ETA: 0s - loss: 0.6883 - acc: 0.5437Epoch 1/100\n",
      "6/6 [==============================] - 3s 463ms/step - loss: 0.6893 - acc: 0.5312 - val_loss: 0.6932 - val_acc: 0.4688\n",
      "Epoch 96/100\n",
      "5/6 [========================>.....] - ETA: 0s - loss: 0.6914 - acc: 0.4500Epoch 1/100\n",
      "6/6 [==============================] - 3s 471ms/step - loss: 0.6914 - acc: 0.4792 - val_loss: 0.6932 - val_acc: 0.4688\n",
      "Epoch 97/100\n",
      "5/6 [========================>.....] - ETA: 0s - loss: 0.6923 - acc: 0.5067Epoch 1/100\n",
      "6/6 [==============================] - 3s 444ms/step - loss: 0.6928 - acc: 0.5055 - val_loss: 0.6932 - val_acc: 0.4688\n",
      "Epoch 98/100\n",
      "5/6 [========================>.....] - ETA: 0s - loss: 0.6754 - acc: 0.5000Epoch 1/100\n",
      "6/6 [==============================] - 3s 458ms/step - loss: 0.6787 - acc: 0.5052 - val_loss: 0.6932 - val_acc: 0.4688\n",
      "Epoch 99/100\n",
      "5/6 [========================>.....] - ETA: 0s - loss: 0.6933 - acc: 0.5250Epoch 1/100\n",
      "6/6 [==============================] - 3s 464ms/step - loss: 0.6933 - acc: 0.5000 - val_loss: 0.6932 - val_acc: 0.4688\n",
      "Epoch 100/100\n",
      "5/6 [========================>.....] - ETA: 0s - loss: 0.6803 - acc: 0.4867Epoch 1/100\n",
      "6/6 [==============================] - 3s 437ms/step - loss: 0.6822 - acc: 0.5165 - val_loss: 0.6932 - val_acc: 0.4688\n",
      "Total Time: 279.5298454761505 seconds.\n"
     ]
    },
    {
     "data": {
      "text/plain": [
       "32512"
      ]
     },
     "execution_count": 69,
     "metadata": {
      "tags": []
     },
     "output_type": "execute_result"
    }
   ],
   "source": [
    "start_time = time.time()\n",
    "fit_history = model.fit_generator(\n",
    "    train_generator,\n",
    "    steps_per_epoch=nb_train_samples // batch_size,\n",
    "    epochs=nb_epochs,\n",
    "    validation_data=validation_generator,\n",
    "    validation_steps=nb_validation_samples // batch_size)\n",
    "end_time = time.time()\n",
    "print(\"Total Time: \"+str(end_time - start_time)+\" seconds.\");''\n",
    "os.system('say \"your program has finished\"')"
   ]
  },
  {
   "cell_type": "code",
   "execution_count": 14,
   "metadata": {
    "colab": {
     "base_uri": "https://localhost:8080/",
     "height": 34
    },
    "colab_type": "code",
    "executionInfo": {
     "elapsed": 238,
     "status": "ok",
     "timestamp": 1580184572570,
     "user": {
      "displayName": "Eleanor Middlemas",
      "photoUrl": "https://lh3.googleusercontent.com/a-/AAuE7mAows02wF9ykiaLoA1SmUTwJdRv13BknnaOIU0dyg=s64",
      "userId": "01049274185132836873"
     },
     "user_tz": 420
    },
    "id": "xnK0Ubh1ySxo",
    "outputId": "141cf015-eb77-4941-99c2-7ba37b5e1d17"
   },
   "outputs": [
    {
     "name": "stdout",
     "output_type": "stream",
     "text": [
      "/content/drive/My Drive/Colab Notebooks\n"
     ]
    }
   ],
   "source": [
    "#save_dir = os.path.join(os.getcwd(),'/drive/My Drive/Colab Notebooks/models/')\n",
    "print(save_dir)"
   ]
  },
  {
   "cell_type": "code",
   "execution_count": null,
   "metadata": {
    "colab": {},
    "colab_type": "code",
    "id": "sQ9TdGbQVc-2"
   },
   "outputs": [],
   "source": [
    "import pickle\n",
    "model.save(save_dir+'/VGG_binaryclassifier_v8.h5')\n",
    "fit_history.history['time_total'] = end_time - start_time\n",
    "pickle.dump(fit_history.history,open(save_dir+'/VGG_binaryclassifier_v8.pkl','wb'))"
   ]
  },
  {
   "cell_type": "markdown",
   "metadata": {
    "colab_type": "text",
    "id": "FobLrFy6eGcw"
   },
   "source": [
    "## Visualize model metrics"
   ]
  },
  {
   "cell_type": "code",
   "execution_count": 71,
   "metadata": {
    "colab": {
     "base_uri": "https://localhost:8080/",
     "height": 336
    },
    "colab_type": "code",
    "executionInfo": {
     "elapsed": 2321,
     "status": "ok",
     "timestamp": 1580190264825,
     "user": {
      "displayName": "Eleanor Middlemas",
      "photoUrl": "https://lh3.googleusercontent.com/a-/AAuE7mAows02wF9ykiaLoA1SmUTwJdRv13BknnaOIU0dyg=s64",
      "userId": "01049274185132836873"
     },
     "user_tz": 420
    },
    "id": "DGh6yRAoVc-7",
    "outputId": "1ef0f6ba-53b6-4dc3-f04d-f7b7492ac362"
   },
   "outputs": [
    {
     "data": {
      "image/png": "[encoded data removed]",
      "text/plain": [
       "<Figure size 1152x360 with 2 Axes>"
      ]
     },
     "metadata": {
      "tags": []
     },
     "output_type": "display_data"
    }
   ],
   "source": [
    "#print(fit_history.history.keys())\n",
    "acc = fit_history.history['acc']\n",
    "val_acc = fit_history.history['val_acc']\n",
    "\n",
    "loss = fit_history.history['loss']\n",
    "val_loss = fit_history.history['val_loss']\n",
    "\n",
    "epochs_range = range(nb_epochs)\n",
    "\n",
    "plt.figure(figsize=(16, 5))\n",
    "plt.subplot(1, 2, 1)\n",
    "plt.plot(epochs_range, acc, label='Training Accuracy')\n",
    "plt.plot(epochs_range, val_acc, label='Validation Accuracy')\n",
    "plt.legend(loc='lower right')\n",
    "plt.title('Training and Validation Accuracy')\n",
    "\n",
    "plt.subplot(1, 2, 2)\n",
    "plt.plot(epochs_range, loss, label='Training Loss')\n",
    "plt.plot(epochs_range, val_loss, label='Validation Loss')\n",
    "plt.legend(loc='upper right')\n",
    "plt.title('Training and Validation Loss')\n",
    "#plt.savefig('./VGG.binary.v7.png')\n",
    "plt.show()"
   ]
  }
 ],
 "metadata": {
  "accelerator": "GPU",
  "colab": {
   "collapsed_sections": [
    "-OUXDWowVc-a"
   ],
   "name": "binary_VGG.ipynb",
   "provenance": []
  },
  "kernelspec": {
   "display_name": "insight",
   "language": "python",
   "name": "insight"
  },
  "language_info": {
   "codemirror_mode": {
    "name": "ipython",
    "version": 3
   },
   "file_extension": ".py",
   "mimetype": "text/x-python",
   "name": "python",
   "nbconvert_exporter": "python",
   "pygments_lexer": "ipython3",
   "version": "3.6.10"
  }
 },
 "nbformat": 4,
 "nbformat_minor": 4
}
