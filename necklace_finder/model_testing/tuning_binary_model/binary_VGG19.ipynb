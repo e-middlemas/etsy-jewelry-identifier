{
 "cells": [
  {
   "cell_type": "markdown",
   "metadata": {
    "colab_type": "text",
    "id": "1SKH1vJJVc98"
   },
   "source": [
    "# Transfer Learning to classify keep or throwaway necklace model with VGG19"
   ]
  },
  {
   "cell_type": "markdown",
   "metadata": {},
   "source": [
    "Here I was testing how well the VGG19 model with binary classification performed compared to the VGG16 model with binary classification. Turns out, the VGG16 performed slightly better but was miles faster to train."
   ]
  },
  {
   "cell_type": "code",
   "execution_count": null,
   "metadata": {
    "colab": {
     "base_uri": "https://localhost:8080/",
     "height": 122
    },
    "colab_type": "code",
    "executionInfo": {
     "elapsed": 24433,
     "status": "ok",
     "timestamp": 1580184484936,
     "user": {
      "displayName": "Eleanor Middlemas",
      "photoUrl": "https://lh3.googleusercontent.com/a-/AAuE7mAows02wF9ykiaLoA1SmUTwJdRv13BknnaOIU0dyg=s64",
      "userId": "01049274185132836873"
     },
     "user_tz": 420
    },
    "id": "ziREXkGQVuY3",
    "outputId": "691d0e5d-2e06-4f3d-a5a2-5bd15e4679a2"
   },
   "outputs": [],
   "source": [
    "from google.colab import drive\n",
    "drive.mount('/content/drive')"
   ]
  },
  {
   "cell_type": "code",
   "execution_count": null,
   "metadata": {
    "colab": {},
    "colab_type": "code",
    "id": "PYrRaKZgVc-B"
   },
   "outputs": [],
   "source": [
    "import numpy as np\n",
    "import pandas as pd\n",
    "import matplotlib.pyplot as plt\n",
    "%matplotlib inline \n",
    "import cv2\n",
    "import os\n",
    "import time\n",
    "\n",
    "from tensorflow.keras.applications import VGG19\n",
    "from tensorflow.keras.preprocessing.image import ImageDataGenerator\n",
    "from tensorflow.keras.models import Sequential\n",
    "from tensorflow.keras.layers import Conv2D, MaxPooling2D, Activation, Dropout, Flatten, Dense\n",
    "from tensorflow.keras import backend as K\n",
    "from tensorflow.keras import metrics, optimizers\n",
    "%tensorflow_version 1.x"
   ]
  },
  {
   "cell_type": "markdown",
   "metadata": {
    "colab_type": "text",
    "id": "Kh8jDsFEVc-I"
   },
   "source": [
    "## Define paths & constants"
   ]
  },
  {
   "cell_type": "code",
   "execution_count": null,
   "metadata": {
    "colab": {},
    "colab_type": "code",
    "id": "8efhkJ-lXzlh"
   },
   "outputs": [],
   "source": [
    "data_base_path = \"/content/drive/My Drive/labeled/\"\n",
    "save_dir = os.path.abspath(\"/content/drive/My Drive/Colab Notebooks/\")"
   ]
  },
  {
   "cell_type": "code",
   "execution_count": null,
   "metadata": {
    "colab": {
     "base_uri": "https://localhost:8080/",
     "height": 51
    },
    "colab_type": "code",
    "executionInfo": {
     "elapsed": 7735,
     "status": "ok",
     "timestamp": 1580184505416,
     "user": {
      "displayName": "Eleanor Middlemas",
      "photoUrl": "https://lh3.googleusercontent.com/a-/AAuE7mAows02wF9ykiaLoA1SmUTwJdRv13BknnaOIU0dyg=s64",
      "userId": "01049274185132836873"
     },
     "user_tz": 420
    },
    "id": "D7-LEgCkEeYI",
    "outputId": "746cc09b-56df-419b-f11a-9ed565692092"
   },
   "outputs": [],
   "source": [
    "print(len(os.listdir(data_base_path+\"throwaway/\")))\n",
    "print(len(os.listdir(data_base_path+\"keep/\")))"
   ]
  },
  {
   "cell_type": "code",
   "execution_count": null,
   "metadata": {
    "colab": {},
    "colab_type": "code",
    "id": "M0KYpfUlVc-G"
   },
   "outputs": [],
   "source": [
    "# Decide on constants for the model. Tested batch sizes as well.\n",
    "nb_classes = 2\n",
    "batch_size = 32\n",
    "nb_train_samples = batch_size*3\n",
    "nb_validation_samples = batch_size*1\n",
    "nb_epochs = 100\n",
    "\n",
    "#IMAGE_RESIZE = 150\n",
    "img_height = 224\n",
    "img_width = 224\n",
    "\n",
    "if K.image_data_format() == 'channels_first':\n",
    "    input_shape = (3, img_width, img_height)\n",
    "else:\n",
    "    input_shape = (img_width, img_height, 3)"
   ]
  },
  {
   "cell_type": "markdown",
   "metadata": {
    "colab_type": "text",
    "id": "_Iw6HWdGeXiG"
   },
   "source": [
    "## Build model"
   ]
  },
  {
   "cell_type": "code",
   "execution_count": null,
   "metadata": {
    "colab": {},
    "colab_type": "code",
    "id": "zdvpCdRnV_rS"
   },
   "outputs": [],
   "source": [
    "# Extract base of VGG19 model:\n",
    "conv_base = VGG19(weights='imagenet',\n",
    "                  include_top=False,\n",
    "                  input_shape=input_shape)"
   ]
  },
  {
   "cell_type": "code",
   "execution_count": null,
   "metadata": {
    "colab": {
     "base_uri": "https://localhost:8080/",
     "height": 51
    },
    "colab_type": "code",
    "executionInfo": {
     "elapsed": 514,
     "status": "ok",
     "timestamp": 1580191120230,
     "user": {
      "displayName": "Eleanor Middlemas",
      "photoUrl": "https://lh3.googleusercontent.com/a-/AAuE7mAows02wF9ykiaLoA1SmUTwJdRv13BknnaOIU0dyg=s64",
      "userId": "01049274185132836873"
     },
     "user_tz": 420
    },
    "id": "hK3mYviibW0h",
    "outputId": "f638fb6a-aa6a-4e41-b077-0fb685e47d91"
   },
   "outputs": [],
   "source": [
    "# Add 2 trainable layers on top:\n",
    "# (Tried adding a different combination of layers with dropout layers)\n",
    "model = Sequential()\n",
    "model.add(conv_base)\n",
    "model.add(Flatten())\n",
    "model.add(Dense(512*4, activation='relu'))\n",
    "model.add(Dropout(0.5))\n",
    "model.add(Dense(512*4, activation='relu'))\n",
    "model.add(Dense(nb_classes, activation='softmax'))\n",
    "\n",
    "conv_base.trainable = True\n",
    "print('This is the number of trainable weights '\n",
    "      'before freezing the conv base:', len(model.trainable_weights))\n",
    "conv_base.trainable = False\n",
    "print('This is the number of trainable weights '\n",
    "      'after freezing the conv base:', len(model.trainable_weights))"
   ]
  },
  {
   "cell_type": "markdown",
   "metadata": {
    "colab_type": "text",
    "id": "9w0OpCX1eOTz"
   },
   "source": [
    "## Image augmentation\n",
    "  \n",
    "Randomly generate training & validation data by performing horizontal flips, rotating, and stretching photos"
   ]
  },
  {
   "cell_type": "code",
   "execution_count": null,
   "metadata": {
    "colab": {},
    "colab_type": "code",
    "id": "nECYgdddVc-Q"
   },
   "outputs": [],
   "source": [
    "train_gen = ImageDataGenerator(\n",
    "    rescale=1./255, \n",
    "    horizontal_flip=True, \n",
    "#    vertical_flip=True,\n",
    "    rotation_range=40, \n",
    "    width_shift_range=.15,\n",
    "    height_shift_range=.15,\n",
    "    zoom_range=0.5,\n",
    "    validation_split=0.2) # set validation split\n",
    "\n",
    "#test_datagen = ImageDataGenerator(rescale=1./255)"
   ]
  },
  {
   "cell_type": "markdown",
   "metadata": {},
   "source": [
    "Produce train & validation data"
   ]
  },
  {
   "cell_type": "code",
   "execution_count": null,
   "metadata": {
    "colab": {
     "base_uri": "https://localhost:8080/",
     "height": 51
    },
    "colab_type": "code",
    "executionInfo": {
     "elapsed": 510,
     "status": "ok",
     "timestamp": 1580191115408,
     "user": {
      "displayName": "Eleanor Middlemas",
      "photoUrl": "https://lh3.googleusercontent.com/a-/AAuE7mAows02wF9ykiaLoA1SmUTwJdRv13BknnaOIU0dyg=s64",
      "userId": "01049274185132836873"
     },
     "user_tz": 420
    },
    "id": "wtSHBBa5Vc-W",
    "outputId": "b4bd7cb8-70fc-4b1b-f043-e154319263c3"
   },
   "outputs": [],
   "source": [
    "train_generator = train_gen.flow_from_directory(\n",
    "    data_base_path,\n",
    "    target_size=(img_height, img_width),\n",
    "    batch_size=batch_size,\n",
    "    class_mode='binary',\n",
    "    subset='training') # set as training data\n",
    "    # shuffles by default\n",
    "\n",
    "validation_generator = train_gen.flow_from_directory(\n",
    "    data_base_path, # same directory as training data\n",
    "    target_size=(img_height, img_width),\n",
    "    batch_size=batch_size,\n",
    "    class_mode='binary',\n",
    "    subset='validation') # set as validation data"
   ]
  },
  {
   "cell_type": "markdown",
   "metadata": {
    "colab_type": "text",
    "id": "-OUXDWowVc-a"
   },
   "source": [
    "### Inspect a batch"
   ]
  },
  {
   "cell_type": "code",
   "execution_count": null,
   "metadata": {
    "colab": {},
    "colab_type": "code",
    "id": "5Lh-GRNaVc-a"
   },
   "outputs": [],
   "source": [
    "sample_training_images, _ = next(train_generator)"
   ]
  },
  {
   "cell_type": "code",
   "execution_count": null,
   "metadata": {
    "colab": {},
    "colab_type": "code",
    "id": "4i0_q0nGVc-e"
   },
   "outputs": [],
   "source": [
    "# This function will plot images in the form of a grid with 1 row and 5 columns where images are placed in each column.\n",
    "def plotImages(images_arr):\n",
    "    fig, axes = plt.subplots(1, 5, figsize=(20,20))\n",
    "    axes = axes.flatten()\n",
    "    for img, ax in zip( images_arr, axes):\n",
    "        ax.imshow(img)\n",
    "        ax.axis('off')\n",
    "    plt.tight_layout()\n",
    "    plt.show()"
   ]
  },
  {
   "cell_type": "code",
   "execution_count": null,
   "metadata": {
    "colab": {},
    "colab_type": "code",
    "id": "GeU23H9HVc-g"
   },
   "outputs": [],
   "source": [
    "plotImages(sample_training_images[:5])"
   ]
  },
  {
   "cell_type": "markdown",
   "metadata": {
    "colab_type": "text",
    "id": "ngxp9CM0Vc-v"
   },
   "source": [
    "## Compile transfer learning model"
   ]
  },
  {
   "cell_type": "markdown",
   "metadata": {},
   "source": [
    "### Hyperparameter Tuning\n",
    "Tried a variety of learning rates, number of epochs, and both SGD & Adam optimizers. Please see ./tuning_binary_model/model_tuning.xlsx for a summary of changes in model accuracy with tuning."
   ]
  },
  {
   "cell_type": "code",
   "execution_count": null,
   "metadata": {
    "colab": {
     "base_uri": "https://localhost:8080/",
     "height": 357
    },
    "colab_type": "code",
    "executionInfo": {
     "elapsed": 421,
     "status": "ok",
     "timestamp": 1580191124541,
     "user": {
      "displayName": "Eleanor Middlemas",
      "photoUrl": "https://lh3.googleusercontent.com/a-/AAuE7mAows02wF9ykiaLoA1SmUTwJdRv13BknnaOIU0dyg=s64",
      "userId": "01049274185132836873"
     },
     "user_tz": 420
    },
    "id": "i62SfFlEVc-s",
    "outputId": "9fd48205-11ba-4ecb-ed91-4b90b9b1ba4d"
   },
   "outputs": [],
   "source": [
    "model.summary()"
   ]
  },
  {
   "cell_type": "code",
   "execution_count": null,
   "metadata": {
    "colab": {},
    "colab_type": "code",
    "id": "Yw7mnr7kVc-w"
   },
   "outputs": [],
   "source": [
    "LR1 = 0.001 # default with adam\n",
    "#LR2 = 0.01\n",
    "#adam = optimizers.Adam(learning_rate=LR2, beta_1=0.9, beta_2=0.999, amsgrad=False)\n",
    "sgd = optimizers.SGD(learning_rate=LR1, momentum=0.0, nesterov=False)\n",
    "model.compile(optimizer = sgd, \n",
    "              loss = 'sparse_categorical_crossentropy',  # for labeled data\n",
    "              metrics = ['accuracy'])"
   ]
  },
  {
   "cell_type": "markdown",
   "metadata": {
    "colab_type": "text",
    "id": "e-Auu1H7Vc-z"
   },
   "source": [
    "## Train model"
   ]
  },
  {
   "cell_type": "code",
   "execution_count": null,
   "metadata": {
    "colab": {
     "base_uri": "https://localhost:8080/",
     "height": 1000
    },
    "colab_type": "code",
    "executionInfo": {
     "elapsed": 245404,
     "status": "ok",
     "timestamp": 1580191379272,
     "user": {
      "displayName": "Eleanor Middlemas",
      "photoUrl": "https://lh3.googleusercontent.com/a-/AAuE7mAows02wF9ykiaLoA1SmUTwJdRv13BknnaOIU0dyg=s64",
      "userId": "01049274185132836873"
     },
     "user_tz": 420
    },
    "id": "1K8g1iquVc-z",
    "outputId": "84259921-9cb7-4fa1-ecd2-0af83d51c8c8"
   },
   "outputs": [],
   "source": [
    "start_time = time.time()\n",
    "fit_history = model.fit_generator(\n",
    "    train_generator,\n",
    "    steps_per_epoch=nb_train_samples // batch_size,\n",
    "    epochs=nb_epochs,\n",
    "    validation_data=validation_generator,\n",
    "    validation_steps=nb_validation_samples // batch_size)\n",
    "end_time = time.time()\n",
    "print(\"Total Time: \"+str(end_time - start_time)+\" seconds.\")\n",
    "os.system('say \"your program has finished\"')"
   ]
  },
  {
   "cell_type": "code",
   "execution_count": null,
   "metadata": {
    "colab": {
     "base_uri": "https://localhost:8080/",
     "height": 34
    },
    "colab_type": "code",
    "executionInfo": {
     "elapsed": 236,
     "status": "ok",
     "timestamp": 1580164400572,
     "user": {
      "displayName": "Eleanor Middlemas",
      "photoUrl": "https://lh3.googleusercontent.com/a-/AAuE7mAows02wF9ykiaLoA1SmUTwJdRv13BknnaOIU0dyg=s64",
      "userId": "01049274185132836873"
     },
     "user_tz": 420
    },
    "id": "xnK0Ubh1ySxo",
    "outputId": "67e23151-5abe-42d0-a14d-ec2532e9e0a1"
   },
   "outputs": [],
   "source": [
    "#save_dir = os.path.join(os.getcwd(),'/drive/My Drive/Colab Notebooks/models/')\n",
    "print(save_dir)"
   ]
  },
  {
   "cell_type": "code",
   "execution_count": null,
   "metadata": {
    "colab": {},
    "colab_type": "code",
    "id": "sQ9TdGbQVc-2"
   },
   "outputs": [],
   "source": [
    "import pickle\n",
    "model.save(save_dir+'/VGG19_binaryclassifier_v2b.h5')\n",
    "fit_history.history['time_total'] = end_time - start_time\n",
    "pickle.dump(fit_history.history,open(save_dir+'/VGG19_binaryclassifier_v2b.pkl','wb'))"
   ]
  },
  {
   "cell_type": "markdown",
   "metadata": {
    "colab_type": "text",
    "id": "FobLrFy6eGcw"
   },
   "source": [
    "## Visualize model metrics"
   ]
  },
  {
   "cell_type": "markdown",
   "metadata": {},
   "source": [
    "Also visual model metrics in  \n",
    "./tuning_binary_model/compare_categorical_binary_stats.ipynb & \n",
    "./tuning_binary_model/recover_stats_model.ipynb"
   ]
  },
  {
   "cell_type": "code",
   "execution_count": null,
   "metadata": {
    "colab": {
     "base_uri": "https://localhost:8080/",
     "height": 336
    },
    "colab_type": "code",
    "executionInfo": {
     "elapsed": 786,
     "status": "ok",
     "timestamp": 1580191381861,
     "user": {
      "displayName": "Eleanor Middlemas",
      "photoUrl": "https://lh3.googleusercontent.com/a-/AAuE7mAows02wF9ykiaLoA1SmUTwJdRv13BknnaOIU0dyg=s64",
      "userId": "01049274185132836873"
     },
     "user_tz": 420
    },
    "id": "DGh6yRAoVc-7",
    "outputId": "738fd744-6c57-4210-9eea-1247d68e269c"
   },
   "outputs": [],
   "source": [
    "#print(fit_history.history.keys())\n",
    "acc = fit_history.history['acc']\n",
    "val_acc = fit_history.history['val_acc']\n",
    "\n",
    "loss = fit_history.history['loss']\n",
    "val_loss = fit_history.history['val_loss']\n",
    "\n",
    "epochs_range = range(nb_epochs)\n",
    "\n",
    "plt.figure(figsize=(16, 5))\n",
    "plt.subplot(1, 2, 1)\n",
    "plt.plot(epochs_range, acc, label='Training Accuracy')\n",
    "plt.plot(epochs_range, val_acc, label='Validation Accuracy')\n",
    "plt.legend(loc='lower right')\n",
    "plt.title('Training and Validation Accuracy')\n",
    "\n",
    "plt.subplot(1, 2, 2)\n",
    "plt.plot(epochs_range, loss, label='Training Loss')\n",
    "plt.plot(epochs_range, val_loss, label='Validation Loss')\n",
    "plt.legend(loc='upper right')\n",
    "plt.title('Training and Validation Loss')\n",
    "#plt.savefig('./VGG.binary.v7.png')\n",
    "plt.show()"
   ]
  }
 ],
 "metadata": {
  "accelerator": "GPU",
  "colab": {
   "collapsed_sections": [
    "-OUXDWowVc-a"
   ],
   "name": "binary_VGG19.ipynb",
   "provenance": [
    {
     "file_id": "1ZwTRQ2LzmMcKQ4fVB1cvkbXb4r3BUNel",
     "timestamp": 1580168745746
    }
   ]
  },
  "kernelspec": {
   "display_name": "insight",
   "language": "python",
   "name": "insight"
  },
  "language_info": {
   "codemirror_mode": {
    "name": "ipython",
    "version": 3
   },
   "file_extension": ".py",
   "mimetype": "text/x-python",
   "name": "python",
   "nbconvert_exporter": "python",
   "pygments_lexer": "ipython3",
   "version": "3.7.4"
  }
 },
 "nbformat": 4,
 "nbformat_minor": 4
}
